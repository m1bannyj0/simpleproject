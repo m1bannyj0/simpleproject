{
 "cells": [
  {
   "cell_type": "code",
   "execution_count": 1,
   "metadata": {},
   "outputs": [
    {
     "data": {
      "text/plain": [
       "array([1., 2., 3., 4., 5., 6.])"
      ]
     },
     "execution_count": 1,
     "metadata": {},
     "output_type": "execute_result"
    }
   ],
   "source": [
    "import numpy as np\n",
    "\n",
    "n=8     # камней, мест в ряду\n",
    "Lot=3     # жуков, зрителей\n",
    "\n",
    "Place = np.zeros(n)  \n",
    "Place =Place[1:-1]  # крайние места, камни не должны быть заняты визиторами\n",
    "for v in range(len(Place)): Place[v]=v+1\n",
    "    \n",
    "Place \n"
   ]
  },
  {
   "cell_type": "code",
   "execution_count": 2,
   "metadata": {
    "scrolled": true
   },
   "outputs": [
    {
     "data": {
      "text/plain": [
       "array([ 1.,  2.,  3., nan,  5.,  6.])"
      ]
     },
     "execution_count": 2,
     "metadata": {},
     "output_type": "execute_result"
    }
   ],
   "source": [
    "# место, которое будет занято\n",
    "bevact=round(np.array([Place]).mean(axis=1))\n",
    "Place[int(bevact)-1]=np.nan\n",
    "Place\n",
    "# место № 4 не свободно :)"
   ]
  },
  {
   "cell_type": "code",
   "execution_count": 4,
   "metadata": {},
   "outputs": [
    {
     "data": {
      "text/plain": [
       "[array([1., 2., 3.]), array([5., 6.])]"
      ]
     },
     "execution_count": 4,
     "metadata": {},
     "output_type": "execute_result"
    }
   ],
   "source": [
    "# ищем ближайшее лучшее место\n",
    "# (разбивается ряд на N-отрезков и берется бОльший из них, занимается место по середине)\n",
    "\n",
    "chunks=[Place[s] for s in np.ma.clump_unmasked(np.ma.masked_invalid(Place))]\n",
    "\n",
    "chunks"
   ]
  },
  {
   "cell_type": "code",
   "execution_count": null,
   "metadata": {},
   "outputs": [],
   "source": [
    "# очевидно, что первый отрезок наиболее привлекателен, занимается посередине либо ближайшее место\n",
    "\n",
    "# весь скрипт в целом\n",
    "\n",
    "# -*- coding: utf-8 -*-\n",
    "import numpy as np\n",
    "\n",
    "n=10     # мест\n",
    "Lot=1     # школьники\n",
    "\n",
    "while True:\n",
    "    try:\n",
    "        n = int(input(\"Please enter lot of Place\"))\n",
    "        Lot = int(input(\"Please enter num a Visitor\"))\n",
    "        break\n",
    "    except ValueError:\n",
    "        print(\"Invalid input.  Please try again\")\n",
    "        \n",
    "def finddeep(Place):\n",
    "    chunks=[Place[s] for s in np.ma.clump_unmasked(np.ma.masked_invalid(Place))]\n",
    "    chunksbysort=np.array(sorted(chunks\n",
    "                       , key=len\n",
    "                       , reverse=True)\n",
    "                        )\n",
    "    bedeep=round(np.array([chunksbysort[0]]).mean(axis=1))\n",
    "    return int(bedeep)\n",
    "\n",
    "def FreePlace(Place):\n",
    "    fp=[Place[s] for s in np.ma.clump_unmasked(np.ma.masked_invalid(Place))]\n",
    "    return len(fp[0]),len(fp[-1])\n",
    "    \n",
    "Place = np.zeros(n)\n",
    "Place =Place[1:-1]\n",
    "for v in range(len(Place)): Place[v]=v+1    \n",
    "\n",
    "if __name__ == '__main__':\n",
    "    for l in range(Lot):\n",
    "        bevact=finddeep(Place)\n",
    "        Place[bevact-1]=np.nan\n",
    "        \n",
    "    result=FreePlace(Place)\n",
    "    print '---free place by extreme:',result\n",
    "    \n",
    "\n",
    "\n",
    "\n",
    "\n"
   ]
  }
 ],
 "metadata": {
  "kernelspec": {
   "display_name": "Python 2",
   "language": "python",
   "name": "python2"
  },
  "language_info": {
   "codemirror_mode": {
    "name": "ipython",
    "version": 2
   },
   "file_extension": ".py",
   "mimetype": "text/x-python",
   "name": "python",
   "nbconvert_exporter": "python",
   "pygments_lexer": "ipython2",
   "version": "2.7.15"
  }
 },
 "nbformat": 4,
 "nbformat_minor": 2
}
